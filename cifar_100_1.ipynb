{
  "nbformat": 4,
  "nbformat_minor": 0,
  "metadata": {
    "colab": {
      "provenance": [],
      "gpuType": "T4",
      "authorship_tag": "ABX9TyPkATRUpTzj/AHTA0zO5LNj",
      "include_colab_link": true
    },
    "kernelspec": {
      "name": "python3",
      "display_name": "Python 3"
    },
    "language_info": {
      "name": "python"
    },
    "accelerator": "GPU"
  },
  "cells": [
    {
      "cell_type": "markdown",
      "metadata": {
        "id": "view-in-github",
        "colab_type": "text"
      },
      "source": [
        "<a href=\"https://colab.research.google.com/github/debrupf2946/Personal_projects/blob/main/cifar_100_1.ipynb\" target=\"_parent\"><img src=\"https://colab.research.google.com/assets/colab-badge.svg\" alt=\"Open In Colab\"/></a>"
      ]
    },
    {
      "cell_type": "code",
      "execution_count": 1,
      "metadata": {
        "id": "njJ8MoB7aK9S"
      },
      "outputs": [],
      "source": [
        "!mkdir -p ~/.kaggle\n",
        "!cp kaggle.json ~/.kaggle/"
      ]
    },
    {
      "cell_type": "code",
      "source": [
        "!kaggle datasets download -d fedesoriano/cifar100"
      ],
      "metadata": {
        "colab": {
          "base_uri": "https://localhost:8080/"
        },
        "id": "iFS2mSoBaXe3",
        "outputId": "790fbed1-a99f-46db-d2bd-745b312ce41e"
      },
      "execution_count": 2,
      "outputs": [
        {
          "output_type": "stream",
          "name": "stdout",
          "text": [
            "Warning: Your Kaggle API key is readable by other users on this system! To fix this, you can run 'chmod 600 /root/.kaggle/kaggle.json'\n",
            "Downloading cifar100.zip to /content\n",
            " 94% 151M/161M [00:01<00:00, 138MB/s]\n",
            "100% 161M/161M [00:01<00:00, 116MB/s]\n"
          ]
        }
      ]
    },
    {
      "cell_type": "code",
      "source": [
        "import pickle\n",
        "import numpy as np\n",
        "import tensorflow as tf\n",
        "from tensorflow import keras\n",
        "from keras import Sequential\n",
        "from keras.layers import Dense,MaxPool2D,Conv2D,Flatten,BatchNormalization,Dropout\n",
        "from tensorflow.keras.preprocessing.image import ImageDataGenerator\n",
        "\n",
        "from sklearn.model_selection import train_test_split"
      ],
      "metadata": {
        "id": "nTmA5uNvaZe4"
      },
      "execution_count": 3,
      "outputs": []
    },
    {
      "cell_type": "code",
      "source": [
        "import zipfile\n",
        "zip_ref=zipfile.ZipFile(\"/content/cifar100.zip\",\"r\")\n",
        "zip_ref.extractall('/content')\n",
        "zip_ref.close()"
      ],
      "metadata": {
        "id": "0FxC_EEGabpi"
      },
      "execution_count": 4,
      "outputs": []
    },
    {
      "cell_type": "code",
      "source": [
        "def unpickle(file):\n",
        "    with open(file, 'rb') as fo:\n",
        "        myDict = pickle.load(fo, encoding='latin1')\n",
        "    return myDict"
      ],
      "metadata": {
        "id": "TuCRT-nuad4L"
      },
      "execution_count": 5,
      "outputs": []
    },
    {
      "cell_type": "code",
      "source": [
        "trainData = unpickle('train')\n",
        "#type of items in each file\n",
        "for item in trainData:\n",
        "    print(item, type(trainData[item]))\n"
      ],
      "metadata": {
        "colab": {
          "base_uri": "https://localhost:8080/"
        },
        "id": "GnyYWqakajB7",
        "outputId": "15d0d91b-9fd0-426e-c28b-5774f8aa0b0b"
      },
      "execution_count": 6,
      "outputs": [
        {
          "output_type": "stream",
          "name": "stdout",
          "text": [
            "filenames <class 'list'>\n",
            "batch_label <class 'str'>\n",
            "fine_labels <class 'list'>\n",
            "coarse_labels <class 'list'>\n",
            "data <class 'numpy.ndarray'>\n"
          ]
        }
      ]
    },
    {
      "cell_type": "code",
      "source": [
        "testData= unpickle('test')\n",
        "for items in testData:\n",
        "  print(item,type(testData[item]))"
      ],
      "metadata": {
        "colab": {
          "base_uri": "https://localhost:8080/"
        },
        "id": "UxmDDVV2all6",
        "outputId": "de8ea045-ab3a-4902-b90a-b8dc04fcbedb"
      },
      "execution_count": 7,
      "outputs": [
        {
          "output_type": "stream",
          "name": "stdout",
          "text": [
            "data <class 'numpy.ndarray'>\n",
            "data <class 'numpy.ndarray'>\n",
            "data <class 'numpy.ndarray'>\n",
            "data <class 'numpy.ndarray'>\n",
            "data <class 'numpy.ndarray'>\n"
          ]
        }
      ]
    },
    {
      "cell_type": "code",
      "source": [
        "X_train=trainData['data']"
      ],
      "metadata": {
        "id": "JIAWQBydanzl"
      },
      "execution_count": 8,
      "outputs": []
    },
    {
      "cell_type": "code",
      "source": [
        "X_train=X_train.reshape(len(X_train),3,32,32).transpose(0,2,3,1)\n",
        "X_train.shape"
      ],
      "metadata": {
        "colab": {
          "base_uri": "https://localhost:8080/"
        },
        "id": "o-LNm1BlatSx",
        "outputId": "fae6c6ce-1dec-4c22-adaa-089f81179795"
      },
      "execution_count": 9,
      "outputs": [
        {
          "output_type": "execute_result",
          "data": {
            "text/plain": [
              "(50000, 32, 32, 3)"
            ]
          },
          "metadata": {},
          "execution_count": 9
        }
      ]
    },
    {
      "cell_type": "code",
      "source": [
        "X_test = testData['data']\n",
        "X_test = X_test.reshape(len(X_test),3,32,32).transpose(0,2,3,1)\n",
        "X_test.shape"
      ],
      "metadata": {
        "colab": {
          "base_uri": "https://localhost:8080/"
        },
        "id": "JXYjc818avUh",
        "outputId": "4076a6b4-162f-4fc4-bb0d-9738667ddf8d"
      },
      "execution_count": 10,
      "outputs": [
        {
          "output_type": "execute_result",
          "data": {
            "text/plain": [
              "(10000, 32, 32, 3)"
            ]
          },
          "metadata": {},
          "execution_count": 10
        }
      ]
    },
    {
      "cell_type": "code",
      "source": [
        "y_test=testData[\"fine_labels\"]\n",
        "y_test=np.array(y_test)\n",
        "y_test[:5]"
      ],
      "metadata": {
        "colab": {
          "base_uri": "https://localhost:8080/"
        },
        "id": "euiI9ZqlaxC7",
        "outputId": "e31fc1a4-5760-4755-904d-a37eef0da176"
      },
      "execution_count": 11,
      "outputs": [
        {
          "output_type": "execute_result",
          "data": {
            "text/plain": [
              "array([49, 33, 72, 51, 71])"
            ]
          },
          "metadata": {},
          "execution_count": 11
        }
      ]
    },
    {
      "cell_type": "code",
      "source": [
        "y_train=trainData['fine_labels']\n",
        "X_train=np.array(X_train)\n",
        "y_train=np.array(y_train)"
      ],
      "metadata": {
        "id": "-9eJjUlwazN1"
      },
      "execution_count": 12,
      "outputs": []
    },
    {
      "cell_type": "code",
      "source": [
        "y_train.shape"
      ],
      "metadata": {
        "colab": {
          "base_uri": "https://localhost:8080/"
        },
        "id": "tjhCrVW-a8gg",
        "outputId": "a5472919-90cb-49fd-ca66-a3f7f6e0e00a"
      },
      "execution_count": 13,
      "outputs": [
        {
          "output_type": "execute_result",
          "data": {
            "text/plain": [
              "(50000,)"
            ]
          },
          "metadata": {},
          "execution_count": 13
        }
      ]
    },
    {
      "cell_type": "code",
      "source": [
        "X_train,X_valid,y_train,y_valid=train_test_split(X_train,y_train,train_size=0.8)\n",
        "X_valid=np.array(X_valid)\n",
        "y_valid=np.array(y_valid)"
      ],
      "metadata": {
        "id": "rd6iTbUQa_Ed"
      },
      "execution_count": 14,
      "outputs": []
    },
    {
      "cell_type": "code",
      "source": [
        "aug=ImageDataGenerator(rescale=1.0/255.,\n",
        "                             rotation_range=20,\n",
        "                             width_shift_range=0.1,\n",
        "                             height_shift_range=0.1,\n",
        "                             shear_range=0.1,\n",
        "                             zoom_range=0.2,\n",
        "                             fill_mode='nearest',\n",
        "                             horizontal_flip=True)\n",
        "resacler=ImageDataGenerator(rescale=1.0/255.)"
      ],
      "metadata": {
        "id": "atbtd2TcbBTv"
      },
      "execution_count": 15,
      "outputs": []
    },
    {
      "cell_type": "code",
      "source": [
        "train_generator=aug.flow(X_train,y_train,batch_size=40)\n",
        "valid_generator=resacler.flow(X_valid,y_valid, batch_size=40)\n",
        "test_genrator=resacler.flow(X_test,y_test, batch_size=40)"
      ],
      "metadata": {
        "id": "ixwV5SC_bDkU"
      },
      "execution_count": 16,
      "outputs": []
    },
    {
      "cell_type": "code",
      "source": [
        "model=Sequential()\n",
        "\n",
        "model.add(Conv2D(32,kernel_size=(3,3),padding=\"valid\",activation=\"relu\",input_shape=(32,32,3)))\n",
        "model.add(BatchNormalization())\n",
        "model.add(MaxPool2D(pool_size=(2,2),strides=2,padding=\"valid\"))\n",
        "\n",
        "model.add(Conv2D(64,kernel_size=(3,3),padding=\"valid\",activation=\"relu\"))\n",
        "model.add(BatchNormalization())\n",
        "model.add(MaxPool2D(pool_size=(2,2),strides=2,padding=\"valid\"))\n",
        "\n",
        "model.add(Conv2D(128,kernel_size=(3,3),padding=\"valid\",activation=\"relu\"))\n",
        "model.add(BatchNormalization())\n",
        "model.add(MaxPool2D(pool_size=(2,2),strides=2,padding=\"valid\"))\n",
        "\n",
        "model.add(Flatten())\n",
        "\n",
        "model.add(Dense(512,activation=\"relu\"))\n",
        "model.add(Dropout(0.1))\n",
        "model.add(Dense(256,activation=\"relu\"))\n",
        "model.add(BatchNormalization())\n",
        "model.add(Dense(128,activation=\"relu\"))\n",
        "model.add(BatchNormalization())\n",
        "model.add(Dense(100,activation=\"softmax\"))"
      ],
      "metadata": {
        "id": "fVVbOeP4bGAf"
      },
      "execution_count": 17,
      "outputs": []
    },
    {
      "cell_type": "code",
      "source": [
        "model.compile(optimizer=\"adam\",loss=\"sparse_categorical_crossentropy\",metrics=[\"accuracy\"])"
      ],
      "metadata": {
        "id": "7gPRfI0LbI7f"
      },
      "execution_count": 18,
      "outputs": []
    },
    {
      "cell_type": "code",
      "source": [
        "X_train=np.array(X_train)\n",
        "y_train=np.array(y_train)\n",
        "X_valid=np.array(X_valid)\n",
        "y_valid=np.array(y_valid)"
      ],
      "metadata": {
        "id": "vPD9nuUibLuB"
      },
      "execution_count": 19,
      "outputs": []
    },
    {
      "cell_type": "code",
      "source": [
        "from tensorflow.keras.callbacks import EarlyStopping\n",
        "early_stopping = EarlyStopping(monitor='accuracy', patience=5, min_delta=0.002)\n"
      ],
      "metadata": {
        "id": "OHaXpIQZbOPY"
      },
      "execution_count": 20,
      "outputs": []
    },
    {
      "cell_type": "code",
      "source": [
        "history=model.fit(train_generator,validation_data=valid_generator,batch_size=40,epochs=100,callbacks=early_stopping)"
      ],
      "metadata": {
        "colab": {
          "base_uri": "https://localhost:8080/"
        },
        "id": "sCwD4xJObQN5",
        "outputId": "1ffc621b-94a5-47a7-d34a-5ce5ed20570e"
      },
      "execution_count": 21,
      "outputs": [
        {
          "output_type": "stream",
          "name": "stdout",
          "text": [
            "Epoch 1/100\n",
            "1000/1000 [==============================] - 46s 31ms/step - loss: 3.7915 - accuracy: 0.1272 - val_loss: 3.6293 - val_accuracy: 0.1527\n",
            "Epoch 2/100\n",
            "1000/1000 [==============================] - 31s 31ms/step - loss: 3.2460 - accuracy: 0.2098 - val_loss: 3.2098 - val_accuracy: 0.2222\n",
            "Epoch 3/100\n",
            "1000/1000 [==============================] - 31s 31ms/step - loss: 2.9899 - accuracy: 0.2564 - val_loss: 2.7512 - val_accuracy: 0.3022\n",
            "Epoch 4/100\n",
            "1000/1000 [==============================] - 31s 31ms/step - loss: 2.8155 - accuracy: 0.2881 - val_loss: 2.9851 - val_accuracy: 0.2685\n",
            "Epoch 5/100\n",
            "1000/1000 [==============================] - 32s 32ms/step - loss: 2.6853 - accuracy: 0.3179 - val_loss: 2.5432 - val_accuracy: 0.3482\n",
            "Epoch 6/100\n",
            "1000/1000 [==============================] - 31s 31ms/step - loss: 2.5833 - accuracy: 0.3357 - val_loss: 2.8853 - val_accuracy: 0.2979\n",
            "Epoch 7/100\n",
            "1000/1000 [==============================] - 32s 32ms/step - loss: 2.4824 - accuracy: 0.3566 - val_loss: 2.5450 - val_accuracy: 0.3470\n",
            "Epoch 8/100\n",
            "1000/1000 [==============================] - 31s 31ms/step - loss: 2.4162 - accuracy: 0.3729 - val_loss: 2.4144 - val_accuracy: 0.3827\n",
            "Epoch 9/100\n",
            "1000/1000 [==============================] - 32s 32ms/step - loss: 2.3654 - accuracy: 0.3804 - val_loss: 2.4553 - val_accuracy: 0.3699\n",
            "Epoch 10/100\n",
            "1000/1000 [==============================] - 31s 31ms/step - loss: 2.3118 - accuracy: 0.3939 - val_loss: 2.3007 - val_accuracy: 0.4039\n",
            "Epoch 11/100\n",
            "1000/1000 [==============================] - 32s 32ms/step - loss: 2.2463 - accuracy: 0.4074 - val_loss: 2.2655 - val_accuracy: 0.4143\n",
            "Epoch 12/100\n",
            "1000/1000 [==============================] - 30s 30ms/step - loss: 2.2043 - accuracy: 0.4136 - val_loss: 2.2172 - val_accuracy: 0.4224\n",
            "Epoch 13/100\n",
            "1000/1000 [==============================] - 31s 31ms/step - loss: 2.1521 - accuracy: 0.4279 - val_loss: 2.3411 - val_accuracy: 0.4005\n",
            "Epoch 14/100\n",
            "1000/1000 [==============================] - 30s 30ms/step - loss: 2.1218 - accuracy: 0.4340 - val_loss: 2.4523 - val_accuracy: 0.3825\n",
            "Epoch 15/100\n",
            "1000/1000 [==============================] - 30s 30ms/step - loss: 2.0818 - accuracy: 0.4455 - val_loss: 2.4333 - val_accuracy: 0.3893\n",
            "Epoch 16/100\n",
            "1000/1000 [==============================] - 30s 30ms/step - loss: 2.0451 - accuracy: 0.4513 - val_loss: 2.1279 - val_accuracy: 0.4447\n",
            "Epoch 17/100\n",
            "1000/1000 [==============================] - 31s 31ms/step - loss: 2.0153 - accuracy: 0.4577 - val_loss: 2.0552 - val_accuracy: 0.4560\n",
            "Epoch 18/100\n",
            "1000/1000 [==============================] - 31s 31ms/step - loss: 1.9874 - accuracy: 0.4626 - val_loss: 2.0719 - val_accuracy: 0.4605\n",
            "Epoch 19/100\n",
            "1000/1000 [==============================] - 30s 30ms/step - loss: 1.9647 - accuracy: 0.4671 - val_loss: 2.1275 - val_accuracy: 0.4517\n",
            "Epoch 20/100\n",
            "1000/1000 [==============================] - 31s 31ms/step - loss: 1.9369 - accuracy: 0.4772 - val_loss: 2.4228 - val_accuracy: 0.3938\n",
            "Epoch 21/100\n",
            "1000/1000 [==============================] - 30s 30ms/step - loss: 1.9106 - accuracy: 0.4823 - val_loss: 2.1503 - val_accuracy: 0.4417\n",
            "Epoch 22/100\n",
            "1000/1000 [==============================] - 31s 31ms/step - loss: 1.8826 - accuracy: 0.4910 - val_loss: 2.2213 - val_accuracy: 0.4366\n",
            "Epoch 23/100\n",
            "1000/1000 [==============================] - 31s 31ms/step - loss: 1.8578 - accuracy: 0.4897 - val_loss: 1.9875 - val_accuracy: 0.4797\n",
            "Epoch 24/100\n",
            "1000/1000 [==============================] - 30s 30ms/step - loss: 1.8483 - accuracy: 0.4945 - val_loss: 2.3792 - val_accuracy: 0.4076\n",
            "Epoch 25/100\n",
            "1000/1000 [==============================] - 32s 32ms/step - loss: 1.8257 - accuracy: 0.5012 - val_loss: 2.0426 - val_accuracy: 0.4669\n",
            "Epoch 26/100\n",
            "1000/1000 [==============================] - 30s 30ms/step - loss: 1.8030 - accuracy: 0.5044 - val_loss: 2.1209 - val_accuracy: 0.4596\n",
            "Epoch 27/100\n",
            "1000/1000 [==============================] - 32s 32ms/step - loss: 1.7843 - accuracy: 0.5097 - val_loss: 2.2552 - val_accuracy: 0.4261\n",
            "Epoch 28/100\n",
            "1000/1000 [==============================] - 31s 31ms/step - loss: 1.7645 - accuracy: 0.5139 - val_loss: 2.0902 - val_accuracy: 0.4620\n",
            "Epoch 29/100\n",
            "1000/1000 [==============================] - 32s 32ms/step - loss: 1.7457 - accuracy: 0.5185 - val_loss: 2.0583 - val_accuracy: 0.4662\n",
            "Epoch 30/100\n",
            "1000/1000 [==============================] - 31s 31ms/step - loss: 1.7293 - accuracy: 0.5203 - val_loss: 1.9822 - val_accuracy: 0.4867\n",
            "Epoch 31/100\n",
            "1000/1000 [==============================] - 31s 31ms/step - loss: 1.7111 - accuracy: 0.5285 - val_loss: 2.2232 - val_accuracy: 0.4421\n",
            "Epoch 32/100\n",
            "1000/1000 [==============================] - 31s 31ms/step - loss: 1.6983 - accuracy: 0.5318 - val_loss: 1.9902 - val_accuracy: 0.4827\n",
            "Epoch 33/100\n",
            "1000/1000 [==============================] - 31s 31ms/step - loss: 1.6855 - accuracy: 0.5296 - val_loss: 2.0586 - val_accuracy: 0.4708\n",
            "Epoch 34/100\n",
            "1000/1000 [==============================] - 32s 32ms/step - loss: 1.6746 - accuracy: 0.5322 - val_loss: 2.0964 - val_accuracy: 0.4658\n",
            "Epoch 35/100\n",
            "1000/1000 [==============================] - 30s 30ms/step - loss: 1.6666 - accuracy: 0.5368 - val_loss: 2.1923 - val_accuracy: 0.4490\n",
            "Epoch 36/100\n",
            "1000/1000 [==============================] - 31s 31ms/step - loss: 1.6520 - accuracy: 0.5406 - val_loss: 2.2706 - val_accuracy: 0.4408\n",
            "Epoch 37/100\n",
            "1000/1000 [==============================] - 31s 31ms/step - loss: 1.6497 - accuracy: 0.5409 - val_loss: 2.3147 - val_accuracy: 0.4376\n",
            "Epoch 38/100\n",
            "1000/1000 [==============================] - 31s 31ms/step - loss: 1.6174 - accuracy: 0.5458 - val_loss: 1.9654 - val_accuracy: 0.4967\n",
            "Epoch 39/100\n",
            "1000/1000 [==============================] - 30s 30ms/step - loss: 1.6086 - accuracy: 0.5484 - val_loss: 2.0293 - val_accuracy: 0.4862\n",
            "Epoch 40/100\n",
            "1000/1000 [==============================] - 30s 30ms/step - loss: 1.5980 - accuracy: 0.5525 - val_loss: 1.9116 - val_accuracy: 0.5043\n",
            "Epoch 41/100\n",
            "1000/1000 [==============================] - 31s 31ms/step - loss: 1.5949 - accuracy: 0.5525 - val_loss: 1.9429 - val_accuracy: 0.4985\n",
            "Epoch 42/100\n",
            "1000/1000 [==============================] - 30s 30ms/step - loss: 1.5875 - accuracy: 0.5555 - val_loss: 1.9699 - val_accuracy: 0.4879\n",
            "Epoch 43/100\n",
            "1000/1000 [==============================] - 31s 31ms/step - loss: 1.5700 - accuracy: 0.5588 - val_loss: 1.9529 - val_accuracy: 0.5014\n",
            "Epoch 44/100\n",
            "1000/1000 [==============================] - 31s 31ms/step - loss: 1.5555 - accuracy: 0.5633 - val_loss: 2.0059 - val_accuracy: 0.4848\n",
            "Epoch 45/100\n",
            "1000/1000 [==============================] - 32s 32ms/step - loss: 1.5414 - accuracy: 0.5646 - val_loss: 2.0262 - val_accuracy: 0.4882\n",
            "Epoch 46/100\n",
            "1000/1000 [==============================] - 31s 31ms/step - loss: 1.5253 - accuracy: 0.5720 - val_loss: 1.9428 - val_accuracy: 0.5059\n",
            "Epoch 47/100\n",
            "1000/1000 [==============================] - 31s 31ms/step - loss: 1.5216 - accuracy: 0.5703 - val_loss: 1.9518 - val_accuracy: 0.5007\n",
            "Epoch 48/100\n",
            "1000/1000 [==============================] - 30s 30ms/step - loss: 1.5257 - accuracy: 0.5704 - val_loss: 2.0447 - val_accuracy: 0.4842\n",
            "Epoch 49/100\n",
            "1000/1000 [==============================] - 31s 31ms/step - loss: 1.5140 - accuracy: 0.5723 - val_loss: 1.9038 - val_accuracy: 0.5151\n",
            "Epoch 50/100\n",
            "1000/1000 [==============================] - 31s 31ms/step - loss: 1.4883 - accuracy: 0.5770 - val_loss: 1.9639 - val_accuracy: 0.4974\n",
            "Epoch 51/100\n",
            "1000/1000 [==============================] - 30s 30ms/step - loss: 1.4793 - accuracy: 0.5802 - val_loss: 2.1972 - val_accuracy: 0.4691\n",
            "Epoch 52/100\n",
            "1000/1000 [==============================] - 31s 31ms/step - loss: 1.4838 - accuracy: 0.5806 - val_loss: 1.9286 - val_accuracy: 0.5154\n",
            "Epoch 53/100\n",
            "1000/1000 [==============================] - 30s 30ms/step - loss: 1.4725 - accuracy: 0.5833 - val_loss: 2.0649 - val_accuracy: 0.4867\n",
            "Epoch 54/100\n",
            "1000/1000 [==============================] - 31s 31ms/step - loss: 1.4484 - accuracy: 0.5896 - val_loss: 1.9427 - val_accuracy: 0.5118\n",
            "Epoch 55/100\n",
            "1000/1000 [==============================] - 30s 30ms/step - loss: 1.4523 - accuracy: 0.5866 - val_loss: 2.1498 - val_accuracy: 0.4701\n",
            "Epoch 56/100\n",
            "1000/1000 [==============================] - 30s 30ms/step - loss: 1.4313 - accuracy: 0.5914 - val_loss: 2.0851 - val_accuracy: 0.4781\n",
            "Epoch 57/100\n",
            "1000/1000 [==============================] - 31s 31ms/step - loss: 1.4435 - accuracy: 0.5897 - val_loss: 1.9620 - val_accuracy: 0.5054\n",
            "Epoch 58/100\n",
            "1000/1000 [==============================] - 30s 30ms/step - loss: 1.4271 - accuracy: 0.5905 - val_loss: 1.9889 - val_accuracy: 0.5004\n",
            "Epoch 59/100\n",
            "1000/1000 [==============================] - 30s 30ms/step - loss: 1.4217 - accuracy: 0.5970 - val_loss: 1.9720 - val_accuracy: 0.5040\n",
            "Epoch 60/100\n",
            "1000/1000 [==============================] - 30s 30ms/step - loss: 1.4041 - accuracy: 0.5987 - val_loss: 1.9789 - val_accuracy: 0.5103\n",
            "Epoch 61/100\n",
            "1000/1000 [==============================] - 32s 32ms/step - loss: 1.4079 - accuracy: 0.5980 - val_loss: 2.1354 - val_accuracy: 0.4801\n",
            "Epoch 62/100\n",
            "1000/1000 [==============================] - 30s 30ms/step - loss: 1.3957 - accuracy: 0.5994 - val_loss: 1.9269 - val_accuracy: 0.5135\n",
            "Epoch 63/100\n",
            "1000/1000 [==============================] - 30s 30ms/step - loss: 1.3906 - accuracy: 0.6012 - val_loss: 1.9873 - val_accuracy: 0.5078\n",
            "Epoch 64/100\n",
            "1000/1000 [==============================] - 31s 31ms/step - loss: 1.3802 - accuracy: 0.6038 - val_loss: 2.0944 - val_accuracy: 0.4909\n",
            "Epoch 65/100\n",
            "1000/1000 [==============================] - 30s 30ms/step - loss: 1.3706 - accuracy: 0.6066 - val_loss: 1.9087 - val_accuracy: 0.5185\n",
            "Epoch 66/100\n",
            "1000/1000 [==============================] - 31s 31ms/step - loss: 1.3619 - accuracy: 0.6087 - val_loss: 2.0382 - val_accuracy: 0.4986\n",
            "Epoch 67/100\n",
            "1000/1000 [==============================] - 30s 30ms/step - loss: 1.3481 - accuracy: 0.6114 - val_loss: 1.9209 - val_accuracy: 0.5213\n",
            "Epoch 68/100\n",
            "1000/1000 [==============================] - 32s 32ms/step - loss: 1.3497 - accuracy: 0.6117 - val_loss: 1.9498 - val_accuracy: 0.5209\n",
            "Epoch 69/100\n",
            "1000/1000 [==============================] - 30s 30ms/step - loss: 1.3567 - accuracy: 0.6100 - val_loss: 1.9671 - val_accuracy: 0.5125\n",
            "Epoch 70/100\n",
            "1000/1000 [==============================] - 31s 31ms/step - loss: 1.3382 - accuracy: 0.6141 - val_loss: 1.9567 - val_accuracy: 0.5123\n",
            "Epoch 71/100\n",
            "1000/1000 [==============================] - 31s 31ms/step - loss: 1.3378 - accuracy: 0.6152 - val_loss: 1.9413 - val_accuracy: 0.5129\n",
            "Epoch 72/100\n",
            "1000/1000 [==============================] - 30s 30ms/step - loss: 1.3223 - accuracy: 0.6218 - val_loss: 2.0047 - val_accuracy: 0.5064\n",
            "Epoch 73/100\n",
            "1000/1000 [==============================] - 32s 31ms/step - loss: 1.3148 - accuracy: 0.6218 - val_loss: 2.0407 - val_accuracy: 0.4978\n",
            "Epoch 74/100\n",
            "1000/1000 [==============================] - 30s 30ms/step - loss: 1.3140 - accuracy: 0.6220 - val_loss: 1.9951 - val_accuracy: 0.5107\n",
            "Epoch 75/100\n",
            "1000/1000 [==============================] - 31s 31ms/step - loss: 1.3068 - accuracy: 0.6242 - val_loss: 1.9358 - val_accuracy: 0.5216\n",
            "Epoch 76/100\n",
            "1000/1000 [==============================] - 31s 31ms/step - loss: 1.2928 - accuracy: 0.6262 - val_loss: 1.9297 - val_accuracy: 0.5225\n",
            "Epoch 77/100\n",
            "1000/1000 [==============================] - 32s 32ms/step - loss: 1.3027 - accuracy: 0.6230 - val_loss: 2.0443 - val_accuracy: 0.4976\n",
            "Epoch 78/100\n",
            "1000/1000 [==============================] - 32s 32ms/step - loss: 1.2996 - accuracy: 0.6245 - val_loss: 1.9313 - val_accuracy: 0.5228\n",
            "Epoch 79/100\n",
            "1000/1000 [==============================] - 32s 32ms/step - loss: 1.2912 - accuracy: 0.6281 - val_loss: 1.9413 - val_accuracy: 0.5227\n",
            "Epoch 80/100\n",
            "1000/1000 [==============================] - 32s 32ms/step - loss: 1.2885 - accuracy: 0.6259 - val_loss: 1.9134 - val_accuracy: 0.5322\n",
            "Epoch 81/100\n",
            "1000/1000 [==============================] - 32s 32ms/step - loss: 1.2780 - accuracy: 0.6295 - val_loss: 1.9486 - val_accuracy: 0.5172\n",
            "Epoch 82/100\n",
            "1000/1000 [==============================] - 33s 33ms/step - loss: 1.2876 - accuracy: 0.6273 - val_loss: 2.0113 - val_accuracy: 0.5120\n",
            "Epoch 83/100\n",
            "1000/1000 [==============================] - 32s 32ms/step - loss: 1.2674 - accuracy: 0.6319 - val_loss: 1.9560 - val_accuracy: 0.5240\n",
            "Epoch 84/100\n",
            "1000/1000 [==============================] - 32s 32ms/step - loss: 1.2757 - accuracy: 0.6302 - val_loss: 1.9229 - val_accuracy: 0.5248\n",
            "Epoch 85/100\n",
            "1000/1000 [==============================] - 30s 30ms/step - loss: 1.2459 - accuracy: 0.6388 - val_loss: 2.1686 - val_accuracy: 0.4807\n",
            "Epoch 86/100\n",
            "1000/1000 [==============================] - 30s 30ms/step - loss: 1.2562 - accuracy: 0.6349 - val_loss: 2.0528 - val_accuracy: 0.5077\n",
            "Epoch 87/100\n",
            "1000/1000 [==============================] - 33s 32ms/step - loss: 1.2493 - accuracy: 0.6359 - val_loss: 2.0580 - val_accuracy: 0.4989\n",
            "Epoch 88/100\n",
            "1000/1000 [==============================] - 33s 33ms/step - loss: 1.2381 - accuracy: 0.6395 - val_loss: 1.9075 - val_accuracy: 0.5237\n",
            "Epoch 89/100\n",
            "1000/1000 [==============================] - 32s 32ms/step - loss: 1.2391 - accuracy: 0.6405 - val_loss: 1.9662 - val_accuracy: 0.5156\n",
            "Epoch 90/100\n",
            "1000/1000 [==============================] - 33s 33ms/step - loss: 1.2388 - accuracy: 0.6390 - val_loss: 2.0611 - val_accuracy: 0.5006\n"
          ]
        }
      ]
    },
    {
      "cell_type": "code",
      "source": [],
      "metadata": {
        "id": "w1Wu8JIYbUWP"
      },
      "execution_count": null,
      "outputs": []
    }
  ]
}